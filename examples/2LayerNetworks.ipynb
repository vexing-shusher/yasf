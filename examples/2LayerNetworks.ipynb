{
 "cells": [
  {
   "cell_type": "code",
   "execution_count": 1,
   "id": "dd87a6ee",
   "metadata": {},
   "outputs": [],
   "source": [
    "%matplotlib inline\n",
    "\n",
    "import torch\n",
    "import numpy as np\n",
    "import matplotlib.pyplot as plt\n",
    "\n",
    "from tqdm import tqdm\n",
    "\n",
    "from torch.utils.data import DataLoader\n",
    "\n",
    "from sklearn.metrics import f1_score, confusion_matrix\n",
    "from sklearn.linear_model import LogisticRegression\n",
    "from sklearn.datasets import load_iris\n",
    "from sklearn.model_selection import StratifiedKFold\n",
    "\n",
    "from yasf.layers.layers import InputLayer, LIFLayer, DaCLayer\n",
    "from yasf.learning.learning import STDP, ncSTDP, ppxSTDP\n",
    "from yasf.encoding.encoders import PoissonEncoder\n",
    "from yasf.utils.data import DataWrapper\n",
    "from yasf.utils.functions import normalize\n",
    "\n",
    "def run_experiment(params):\n",
    "    \n",
    "    gpu = params[\"gpu\"]\n",
    "    \n",
    "    device = torch.device(\"cuda:0\" if torch.cuda.is_available() and gpu else \"cpu\")\n",
    "    \n",
    "    print(f\"Running on device: {device}.\")\n",
    "\n",
    "    X, Y = load_iris(as_frame=False, return_X_y=True)\n",
    "\n",
    "    X = torch.as_tensor(X, dtype=torch.float32)\n",
    "    y = torch.as_tensor(Y, dtype=torch.int32)\n",
    "\n",
    "    skf = StratifiedKFold(n_splits=5)\n",
    "\n",
    "    #encoding arguments\n",
    "    time = params[\"time\"]\n",
    "    dt = 1\n",
    "    intensity = params[\"intensity\"]\n",
    "\n",
    "    #neuron arguments\n",
    "    \n",
    "    lsz = int(params[\"lsz\"])\n",
    "    \n",
    "    neuronArgs = {\"n\":lsz, \n",
    "                  \"rest\":0, \n",
    "                  \"reset\":0, \n",
    "                  \"thresh\":params[\"thresh\"], \n",
    "                  \"refrac\":params[\"refrac\"],\n",
    "                  \"tc_decay\":params[\"tc_decay\"],\n",
    "                  \"dt\":1,\n",
    "                  \"time\":time,\n",
    "                  \"device\":device,\n",
    "                 }\n",
    "    \n",
    "    if params[\"plasticity\"] != \"stdp\":\n",
    "        neuronArgs[\"theta_plus\"] = params[\"theta_plus\"]\n",
    "        neuronArgs[\"tc_theta_decay\"] = 1e7\n",
    "    \n",
    "\n",
    "    #STDP arguments\n",
    "    stdpArgs = params[\"stdpArgs\"]\n",
    "\n",
    "    #net args\n",
    "    init_w = 0.1\n",
    "    wmin = 0.\n",
    "    wmax = 1.\n",
    "\n",
    "    f1s = []\n",
    "    Ps = []\n",
    "    Ys = []\n",
    "\n",
    "    for train_idx, test_idx in skf.split(X,Y):\n",
    "\n",
    "        train_ds = DataWrapper(x=X[train_idx],\n",
    "                               y=Y[train_idx],\n",
    "                               sample_transform=PoissonEncoder(time=time, dt=dt, intensity=intensity),\n",
    "                               target_transform=None,\n",
    "                               global_transform=None,\n",
    "                              )\n",
    "\n",
    "        train_loader = DataLoader(train_ds, batch_size = 1, shuffle = True)\n",
    "\n",
    "        test_ds = DataWrapper(x=X[test_idx],\n",
    "                               y=Y[test_idx],\n",
    "                               sample_transform=PoissonEncoder(time=time, dt=dt, intensity=intensity),\n",
    "                               target_transform=None,\n",
    "                               global_transform=None,\n",
    "                              )\n",
    "\n",
    "        test_loader = DataLoader(test_ds, batch_size = 1, shuffle = False)\n",
    "\n",
    "        net_weights = init_w * torch.rand(X.shape[-1],lsz).to(device)\n",
    "        rec_weights = -params[\"inh\"] * (torch.ones(lsz, lsz) - torch.diag(torch.ones(lsz))).to(device)\n",
    "\n",
    "        input_layer = InputLayer(n = X.shape[-1], dt = dt, time = time, device = device)\n",
    "        \n",
    "        if params[\"plasticity\"] == \"stdp\":\n",
    "            class_layer = LIFLayer(**neuronArgs)\n",
    "        else:\n",
    "            class_layer = DaCLayer(**neuronArgs)\n",
    "\n",
    "        if params[\"plasticity\"] == \"ppx\":\n",
    "            stdp = ppxSTDP()\n",
    "        elif params[\"plasticity\"] == \"nc\":\n",
    "            stdp = ncSTDP()\n",
    "        elif params[\"plasticity\"] == \"stdp\":\n",
    "            stdp = STDP(**stdpArgs)\n",
    "\n",
    "        train_samples = []\n",
    "        train_labels = []\n",
    "        test_samples = []\n",
    "        test_labels = []\n",
    "        \n",
    "        for epoch in range(int(params[\"n_epochs\"])):\n",
    "\n",
    "            for batch in tqdm(train_loader):\n",
    "\n",
    "\n",
    "                spike_recorder = torch.zeros(lsz).to(device)\n",
    "\n",
    "                #run simulation\n",
    "                for ts in range(int(time/dt)):\n",
    "\n",
    "                    sample_spikes = batch[0].squeeze()[ts,:].to(device)\n",
    "\n",
    "                    input_spikes, input_times = input_layer(sample_spikes)\n",
    "                    output_spikes, output_times = class_layer(input_spikes, \n",
    "                                                              w = net_weights,\n",
    "                                                              w_rec = rec_weights,\n",
    "                                                             )\n",
    "                    if params[\"plasticity\"] == \"stdp\":\n",
    "                        dw = stdp(input_times, output_times)\n",
    "                    else:\n",
    "                        dw = stdp(input_times, output_times, net_weights)\n",
    "\n",
    "                    net_weights+=dw\n",
    "\n",
    "                    #clamp weights\n",
    "                    net_weights[net_weights < wmin] = wmin\n",
    "                    net_weights[net_weights > wmax] = wmax\n",
    "\n",
    "                    #normalize weights\n",
    "                    net_weights = normalize(net_weights, params[\"norm\"])\n",
    "\n",
    "                    #print(torch.min(net_weights), torch.max(net_weights), torch.mean(net_weights))\n",
    "                    spike_recorder+=output_spikes\n",
    "\n",
    "                spike_recorder /= int(time/dt)\n",
    "\n",
    "                if device == torch.device(\"cuda:0\"):\n",
    "                    spike_recorder = spike_recorder.cpu()\n",
    "                    \n",
    "                if epoch + 1 == int(params[\"n_epochs\"]):\n",
    "\n",
    "                    train_samples.append(spike_recorder.numpy())\n",
    "                    train_labels.append(batch[1].squeeze().numpy())\n",
    "\n",
    "                input_layer.reset_state()\n",
    "                class_layer.reset_state()\n",
    "\n",
    "        for batch in tqdm(test_loader):\n",
    "\n",
    "            spike_recorder = torch.zeros(lsz).to(device)\n",
    "\n",
    "            #run simulation\n",
    "            for ts in range(int(time/dt)):\n",
    "                input_spikes, input_times = input_layer(batch[0].squeeze()[ts,:].to(device))\n",
    "                output_spikes, output_times = class_layer(input_spikes, \n",
    "                                                          w = net_weights,\n",
    "                                                          w_rec = rec_weights,\n",
    "                                                         )\n",
    "                spike_recorder+=output_spikes\n",
    "\n",
    "            spike_recorder /= int(time/dt)\n",
    "            \n",
    "            if device == torch.device(\"cuda:0\"):\n",
    "                spike_recorder = spike_recorder.cpu()\n",
    "\n",
    "            test_samples.append(spike_recorder.numpy())\n",
    "            test_labels.append(batch[1].squeeze().numpy())\n",
    "\n",
    "            input_layer.reset_state()\n",
    "            class_layer.reset_state()\n",
    "\n",
    "        gbc = LogisticRegression(C=1e3)\n",
    "\n",
    "        gbc.fit(train_samples, train_labels)\n",
    "        \n",
    "        preds = gbc.predict(test_samples)\n",
    "        \n",
    "        f1 = f1_score(test_labels, preds, average='macro')\n",
    "        \n",
    "        f1s.append(f1)\n",
    "        Ps.append(preds)\n",
    "        Ys.append(test_labels)\n",
    "        \n",
    "        print(f\"F1-score is: {np.round(f1,2)}\")\n",
    "    \n",
    "    return f1s, Ps, Ys"
   ]
  },
  {
   "cell_type": "code",
   "execution_count": 2,
   "id": "a38f359d",
   "metadata": {},
   "outputs": [
    {
     "name": "stdout",
     "output_type": "stream",
     "text": [
      "Running on device: cuda:0.\n"
     ]
    },
    {
     "name": "stderr",
     "output_type": "stream",
     "text": [
      "100%|████████████████████████████████████████████████████████████████████████████████| 120/120 [00:59<00:00,  2.01it/s]\n",
      "100%|██████████████████████████████████████████████████████████████████████████████████| 30/30 [00:08<00:00,  3.51it/s]\n"
     ]
    },
    {
     "name": "stdout",
     "output_type": "stream",
     "text": [
      "F1-score is: 0.84\n"
     ]
    },
    {
     "name": "stderr",
     "output_type": "stream",
     "text": [
      "100%|████████████████████████████████████████████████████████████████████████████████| 120/120 [01:04<00:00,  1.87it/s]\n",
      "100%|██████████████████████████████████████████████████████████████████████████████████| 30/30 [00:09<00:00,  3.25it/s]\n"
     ]
    },
    {
     "name": "stdout",
     "output_type": "stream",
     "text": [
      "F1-score is: 0.87\n"
     ]
    },
    {
     "name": "stderr",
     "output_type": "stream",
     "text": [
      "100%|████████████████████████████████████████████████████████████████████████████████| 120/120 [01:08<00:00,  1.76it/s]\n",
      "100%|██████████████████████████████████████████████████████████████████████████████████| 30/30 [00:09<00:00,  3.13it/s]\n"
     ]
    },
    {
     "name": "stdout",
     "output_type": "stream",
     "text": [
      "F1-score is: 0.76\n"
     ]
    },
    {
     "name": "stderr",
     "output_type": "stream",
     "text": [
      "100%|████████████████████████████████████████████████████████████████████████████████| 120/120 [01:11<00:00,  1.68it/s]\n",
      "100%|██████████████████████████████████████████████████████████████████████████████████| 30/30 [00:10<00:00,  2.93it/s]\n"
     ]
    },
    {
     "name": "stdout",
     "output_type": "stream",
     "text": [
      "F1-score is: 0.93\n"
     ]
    },
    {
     "name": "stderr",
     "output_type": "stream",
     "text": [
      "100%|████████████████████████████████████████████████████████████████████████████████| 120/120 [01:12<00:00,  1.66it/s]\n",
      "100%|██████████████████████████████████████████████████████████████████████████████████| 30/30 [00:10<00:00,  2.98it/s]\n"
     ]
    },
    {
     "name": "stdout",
     "output_type": "stream",
     "text": [
      "F1-score is: 0.83\n"
     ]
    },
    {
     "data": {
      "image/png": "[encoded data removed]",
      "text/plain": [
       "<Figure size 1152x432 with 5 Axes>"
      ]
     },
     "metadata": {
      "needs_background": "light"
     },
     "output_type": "display_data"
    }
   ],
   "source": [
    "#regular stdp parameters\n",
    "\n",
    "regular_stdp_pars = {\n",
    "    \"plasticity\":\"stdp\",\n",
    "    \n",
    "    \"stdpArgs\":{\n",
    "        \"A_plus\": 0.005,\n",
    "        \"A_minus\" : 0.005,\n",
    "        \"tau_plus\": 27.44,\n",
    "        \"tau_minus\": 27.44,\n",
    "    },\n",
    "    \n",
    "    \"inh\": 77.78, \n",
    "    \"intensity\": 88.98, \n",
    "    \"norm\": 6.94, \n",
    "    \"refrac\": 4.71, \n",
    "    \"tc_decay\": 147.96, \n",
    "    \"thresh\": 7.57,\n",
    "    \"gpu\": True,\n",
    "    \"n_epochs\":1,\n",
    "    \"time\":300,\n",
    "    \"lsz\":1600,\n",
    "}\n",
    "\n",
    "f1s, Ps, Ys = run_experiment(regular_stdp_pars)\n",
    "\n",
    "fig = plt.figure(figsize=(16,6))\n",
    "\n",
    "headings = [f\"f1-score: {np.round(f1,2)}\" for f1 in f1s]\n",
    "data = [confusion_matrix(y,p) for y,p in zip(Ps,Ys)]\n",
    "\n",
    "columns = len(f1s)\n",
    "rows = 1\n",
    "\n",
    "ax = []\n",
    "for i in range(1, columns*rows +1):\n",
    "    ax.append(fig.add_subplot(rows, columns, i))\n",
    "    ax[-1].set_xticks([0,1,2])\n",
    "    ax[-1].set_yticks([0,1,2])\n",
    "    plt.imshow(data[i-1], cmap='binary')\n",
    "    ax[-1].set_title(headings[i-1])\n",
    "plt.show()"
   ]
  },
  {
   "cell_type": "code",
   "execution_count": 10,
   "id": "544333a4",
   "metadata": {},
   "outputs": [
    {
     "name": "stdout",
     "output_type": "stream",
     "text": [
      "Running on device: cuda:0.\n"
     ]
    },
    {
     "name": "stderr",
     "output_type": "stream",
     "text": [
      "100%|████████████████████████████████████████████████████████████████████████████████| 120/120 [01:15<00:00,  1.58it/s]\n",
      "100%|██████████████████████████████████████████████████████████████████████████████████| 30/30 [00:09<00:00,  3.28it/s]\n"
     ]
    },
    {
     "name": "stdout",
     "output_type": "stream",
     "text": [
      "F1-score is: 0.8\n"
     ]
    },
    {
     "name": "stderr",
     "output_type": "stream",
     "text": [
      "100%|████████████████████████████████████████████████████████████████████████████████| 120/120 [01:24<00:00,  1.42it/s]\n",
      "100%|██████████████████████████████████████████████████████████████████████████████████| 30/30 [00:09<00:00,  3.06it/s]\n"
     ]
    },
    {
     "name": "stdout",
     "output_type": "stream",
     "text": [
      "F1-score is: 0.83\n"
     ]
    },
    {
     "name": "stderr",
     "output_type": "stream",
     "text": [
      "100%|████████████████████████████████████████████████████████████████████████████████| 120/120 [01:25<00:00,  1.40it/s]\n",
      "100%|██████████████████████████████████████████████████████████████████████████████████| 30/30 [00:09<00:00,  3.05it/s]\n"
     ]
    },
    {
     "name": "stdout",
     "output_type": "stream",
     "text": [
      "F1-score is: 0.9\n"
     ]
    },
    {
     "name": "stderr",
     "output_type": "stream",
     "text": [
      "100%|████████████████████████████████████████████████████████████████████████████████| 120/120 [01:26<00:00,  1.38it/s]\n",
      "100%|██████████████████████████████████████████████████████████████████████████████████| 30/30 [00:10<00:00,  2.97it/s]\n"
     ]
    },
    {
     "name": "stdout",
     "output_type": "stream",
     "text": [
      "F1-score is: 0.86\n"
     ]
    },
    {
     "name": "stderr",
     "output_type": "stream",
     "text": [
      "100%|████████████████████████████████████████████████████████████████████████████████| 120/120 [01:26<00:00,  1.38it/s]\n",
      "100%|██████████████████████████████████████████████████████████████████████████████████| 30/30 [00:09<00:00,  3.09it/s]\n"
     ]
    },
    {
     "name": "stdout",
     "output_type": "stream",
     "text": [
      "F1-score is: 0.97\n"
     ]
    },
    {
     "data": {
      "image/png": "[encoded data removed]",
      "text/plain": [
       "<Figure size 1152x432 with 5 Axes>"
      ]
     },
     "metadata": {
      "needs_background": "light"
     },
     "output_type": "display_data"
    }
   ],
   "source": [
    "#ppx stdp parameters\n",
    "\n",
    "ppx_stdp_pars = {\n",
    "    \"plasticity\":\"ppx\",\n",
    "    \"stdpArgs\":None,#no plasticity parameters required -- using default\n",
    "    \"inh\": 61.61, \n",
    "    \"intensity\": 100.00, \n",
    "    \"norm\": 30.20, \n",
    "    \"refrac\": 14.71, \n",
    "    \"tc_decay\": 52.04, \n",
    "    \"thresh\": 12.71,\n",
    "    \"theta_plus\": 0.027,\n",
    "    \"gpu\": True,\n",
    "    \"n_epochs\":1,\n",
    "    \"time\":300,\n",
    "    \"lsz\":1600,\n",
    "}\n",
    "\n",
    "f1s, Ps, Ys = run_experiment(ppx_stdp_pars)\n",
    "\n",
    "fig = plt.figure(figsize=(16,6))\n",
    "\n",
    "headings = [f\"f1-score: {np.round(f1,2)}\" for f1 in f1s]\n",
    "data = [confusion_matrix(y,p) for y,p in zip(Ps,Ys)]\n",
    "\n",
    "columns = len(f1s)\n",
    "rows = 1\n",
    "\n",
    "ax = []\n",
    "for i in range(1, columns*rows +1):\n",
    "    ax.append(fig.add_subplot(rows, columns, i))\n",
    "    ax[-1].set_xticks([0,1,2])\n",
    "    ax[-1].set_yticks([0,1,2])\n",
    "    plt.imshow(data[i-1], cmap='binary')\n",
    "    ax[-1].set_title(headings[i-1])\n",
    "plt.show()\n"
   ]
  },
  {
   "cell_type": "code",
   "execution_count": 11,
   "id": "46f6b31b",
   "metadata": {},
   "outputs": [
    {
     "name": "stdout",
     "output_type": "stream",
     "text": [
      "Running on device: cuda:0.\n"
     ]
    },
    {
     "name": "stderr",
     "output_type": "stream",
     "text": [
      "100%|████████████████████████████████████████████████████████████████████████████████| 120/120 [01:25<00:00,  1.40it/s]\n",
      "100%|██████████████████████████████████████████████████████████████████████████████████| 30/30 [00:09<00:00,  3.05it/s]\n"
     ]
    },
    {
     "name": "stdout",
     "output_type": "stream",
     "text": [
      "F1-score is: 0.75\n"
     ]
    },
    {
     "name": "stderr",
     "output_type": "stream",
     "text": [
      "100%|████████████████████████████████████████████████████████████████████████████████| 120/120 [01:26<00:00,  1.38it/s]\n",
      "100%|██████████████████████████████████████████████████████████████████████████████████| 30/30 [00:10<00:00,  2.93it/s]\n"
     ]
    },
    {
     "name": "stdout",
     "output_type": "stream",
     "text": [
      "F1-score is: 0.76\n"
     ]
    },
    {
     "name": "stderr",
     "output_type": "stream",
     "text": [
      "100%|████████████████████████████████████████████████████████████████████████████████| 120/120 [01:26<00:00,  1.39it/s]\n",
      "100%|██████████████████████████████████████████████████████████████████████████████████| 30/30 [00:09<00:00,  3.16it/s]\n"
     ]
    },
    {
     "name": "stdout",
     "output_type": "stream",
     "text": [
      "F1-score is: 0.68\n"
     ]
    },
    {
     "name": "stderr",
     "output_type": "stream",
     "text": [
      "100%|████████████████████████████████████████████████████████████████████████████████| 120/120 [01:26<00:00,  1.39it/s]\n",
      "100%|██████████████████████████████████████████████████████████████████████████████████| 30/30 [00:09<00:00,  3.12it/s]\n"
     ]
    },
    {
     "name": "stdout",
     "output_type": "stream",
     "text": [
      "F1-score is: 0.8\n"
     ]
    },
    {
     "name": "stderr",
     "output_type": "stream",
     "text": [
      "100%|████████████████████████████████████████████████████████████████████████████████| 120/120 [01:26<00:00,  1.38it/s]\n",
      "100%|██████████████████████████████████████████████████████████████████████████████████| 30/30 [00:09<00:00,  3.11it/s]\n"
     ]
    },
    {
     "name": "stdout",
     "output_type": "stream",
     "text": [
      "F1-score is: 0.84\n"
     ]
    },
    {
     "data": {
      "image/png": "[encoded data removed]",
      "text/plain": [
       "<Figure size 1152x432 with 5 Axes>"
      ]
     },
     "metadata": {
      "needs_background": "light"
     },
     "output_type": "display_data"
    }
   ],
   "source": [
    "#nc stdp parameters\n",
    "\n",
    "nc_stdp_pars = {\n",
    "    \"plasticity\":\"ppx\",\n",
    "    \"stdpArgs\":None,#no plasticity parameters required -- using default\n",
    "    \"inh\": 17.16, \n",
    "    \"intensity\": 88.98, \n",
    "    \"norm\": 51.53, \n",
    "    \"refrac\": 8.43, \n",
    "    \"tc_decay\": 125.51, \n",
    "    \"thresh\": 14.43,\n",
    "    \"theta_plus\": 0.035,\n",
    "    \"gpu\": True,\n",
    "    \"n_epochs\":1,\n",
    "    \"time\":300,\n",
    "    \"lsz\":1600,\n",
    "}\n",
    "\n",
    "f1s, Ps, Ys = run_experiment(nc_stdp_pars)\n",
    "\n",
    "fig = plt.figure(figsize=(16,6))\n",
    "\n",
    "headings = [f\"f1-score: {np.round(f1,2)}\" for f1 in f1s]\n",
    "data = [confusion_matrix(y,p) for y,p in zip(Ps,Ys)]\n",
    "\n",
    "columns = len(f1s)\n",
    "rows = 1\n",
    "\n",
    "ax = []\n",
    "for i in range(1, columns*rows +1):\n",
    "    ax.append(fig.add_subplot(rows, columns, i))\n",
    "    ax[-1].set_xticks([0,1,2])\n",
    "    ax[-1].set_yticks([0,1,2])\n",
    "    plt.imshow(data[i-1], cmap='binary')\n",
    "    ax[-1].set_title(headings[i-1])\n",
    "plt.show()"
   ]
  },
  {
   "cell_type": "code",
   "execution_count": 12,
   "id": "1cb1d5c2",
   "metadata": {},
   "outputs": [
    {
     "data": {
      "image/png": "[encoded data removed]",
      "text/plain": [
       "<Figure size 1152x432 with 3 Axes>"
      ]
     },
     "metadata": {
      "needs_background": "light"
     },
     "output_type": "display_data"
    }
   ],
   "source": [
    "#draw plasticity rules\n",
    "\n",
    "t0 = 10 #arbitrary\n",
    "delta_t = torch.arange(0,200,2)\n",
    "\n",
    "input_times = torch.as_tensor(t0).unsqueeze(0)\n",
    "\n",
    "w = torch.ones(1,1) * 0.5 #arbitrary\n",
    "\n",
    "data = []\n",
    "\n",
    "headings = [\"STDP\", \"ppxSTDP\", \"ncSTDP\"]\n",
    "\n",
    "for fname in headings:\n",
    "\n",
    "    if fname == \"STDP\":\n",
    "        rule = STDP()\n",
    "    elif fname == \"ppxSTDP\":\n",
    "        rule = ppxSTDP()\n",
    "    elif fname == \"ncSTDP\":\n",
    "        rule = ncSTDP()\n",
    "    \n",
    "    if fname == \"STDP\":\n",
    "\n",
    "        y1 = [rule(input_times,input_times+dt).squeeze().numpy() for dt in delta_t]\n",
    "        y2 = [rule(input_times+dt,input_times).squeeze().numpy() for dt in delta_t]\n",
    "    else:\n",
    "        y1 = [rule(input_times,input_times+dt,w).squeeze().numpy() for dt in delta_t]\n",
    "        y2 = [rule(input_times+dt,input_times,w).squeeze().numpy() for dt in delta_t]\n",
    "    \n",
    "    data.append((delta_t, y1, y2))\n",
    "    \n",
    "fig = plt.figure(figsize=(16,6))\n",
    "\n",
    "columns = len(headings)\n",
    "rows = 1\n",
    "\n",
    "ax = []\n",
    "for i in range(1, columns*rows +1):\n",
    "    ax.append(fig.add_subplot(rows, columns, i))\n",
    "    plt.plot(data[i-1][0], data[i-1][1], color='red')\n",
    "    plt.plot(-1*data[i-1][0], data[i-1][2], color='blue')\n",
    "    ax[-1].set_title(headings[i-1])\n",
    "    ax[-1].set_xlabel(\"dt, ms\")\n",
    "    ax[-1].set_ylabel(\"dw\")\n",
    "    ax[-1].grid()\n",
    "plt.show()\n",
    "\n",
    "\n",
    "\n"
   ]
  },
  {
   "cell_type": "code",
   "execution_count": null,
   "id": "f556d94e",
   "metadata": {},
   "outputs": [],
   "source": []
  }
 ],
 "metadata": {
  "kernelspec": {
   "display_name": "Python 3 (ipykernel)",
   "language": "python",
   "name": "python3"
  },
  "language_info": {
   "codemirror_mode": {
    "name": "ipython",
    "version": 3
   },
   "file_extension": ".py",
   "mimetype": "text/x-python",
   "name": "python",
   "nbconvert_exporter": "python",
   "pygments_lexer": "ipython3",
   "version": "3.9.7"
  }
 },
 "nbformat": 4,
 "nbformat_minor": 5
}
